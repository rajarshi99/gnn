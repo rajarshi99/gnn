{
 "cells": [
  {
   "cell_type": "markdown",
   "id": "02ce8925-a764-48f8-a9a5-045372a02842",
   "metadata": {},
   "source": [
    "# Graph Convolution Network (GCN) for a classification problem\n",
    "\n",
    "We will work with the CORA dataset from pytorch geometirc.\n",
    "Each paper is assingned a high dimensional vector based on its contents\n",
    "and we will work with the directed graph formed by the citations.\n",
    "Each paper or node is classified based on research topic.\n"
   ]
  },
  {
   "cell_type": "code",
   "execution_count": 15,
   "id": "564b8f76-d3dc-4f89-9d31-ea24c0645776",
   "metadata": {},
   "outputs": [
    {
     "name": "stdout",
     "output_type": "stream",
     "text": [
      "The history saving thread hit an unexpected error (OperationalError('attempt to write a readonly database')).History will not be written to the database.\n"
     ]
    }
   ],
   "source": [
    "from torch_geometric.datasets import Planetoid\n",
    "\n",
    "# Load the CORA dataset\n",
    "dataset = Planetoid(root='/tmp/Cora', name='Cora')\n",
    "\n",
    "# Access the first graph object\n",
    "data = dataset[0]\n"
   ]
  },
  {
   "cell_type": "code",
   "execution_count": 28,
   "id": "7c09f21c-8e5f-4be3-bf68-c789f2ee9e92",
   "metadata": {},
   "outputs": [
    {
     "name": "stdout",
     "output_type": "stream",
     "text": [
      "No. of nodes =  2708\n",
      "No. of edges =  10556\n",
      "Classification labels range from  tensor(0)  to  tensor(6)\n"
     ]
    }
   ],
   "source": [
    "print(\"No. of nodes = \", data['x'].shape[0])\n",
    "print(\"No. of edges = \", data['edge_index'].shape[1])\n",
    "print(\"Classification labels range from \", data['y'].min(), \" to \", data['y'].max())"
   ]
  },
  {
   "cell_type": "code",
   "execution_count": null,
   "id": "fbc83c41-ccd8-4289-a491-3a0cc28dd12f",
   "metadata": {},
   "outputs": [],
   "source": []
  }
 ],
 "metadata": {
  "kernelspec": {
   "display_name": "Python 3 (ipykernel)",
   "language": "python",
   "name": "python3"
  },
  "language_info": {
   "codemirror_mode": {
    "name": "ipython",
    "version": 3
   },
   "file_extension": ".py",
   "mimetype": "text/x-python",
   "name": "python",
   "nbconvert_exporter": "python",
   "pygments_lexer": "ipython3",
   "version": "3.11.9"
  }
 },
 "nbformat": 4,
 "nbformat_minor": 5
}
